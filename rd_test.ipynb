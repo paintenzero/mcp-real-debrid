{
 "cells": [
  {
   "cell_type": "code",
   "execution_count": null,
   "id": "7deb6bb7",
   "metadata": {},
   "outputs": [],
   "source": [
    "%load_ext autoreload\n",
    "%autoreload 2\n",
    "from real_debrid import RealDebrid"
   ]
  },
  {
   "cell_type": "code",
   "execution_count": null,
   "id": "ffd62363",
   "metadata": {},
   "outputs": [],
   "source": [
    "from dotenv import load_dotenv\n",
    "load_dotenv()"
   ]
  },
  {
   "cell_type": "code",
   "execution_count": null,
   "id": "7f4045b6",
   "metadata": {},
   "outputs": [],
   "source": [
    "import os\n",
    "rd = RealDebrid(token=os.environ[\"RD_TOKEN\"])"
   ]
  },
  {
   "cell_type": "code",
   "execution_count": null,
   "id": "088b27bd",
   "metadata": {},
   "outputs": [],
   "source": [
    "rd.get_time()"
   ]
  },
  {
   "cell_type": "code",
   "execution_count": null,
   "id": "95f31bfa",
   "metadata": {},
   "outputs": [],
   "source": [
    "rd.get_user_info()"
   ]
  },
  {
   "cell_type": "code",
   "execution_count": null,
   "id": "1fed9aac",
   "metadata": {},
   "outputs": [],
   "source": [
    "left = rd.get_premium_time_left()"
   ]
  },
  {
   "cell_type": "code",
   "execution_count": null,
   "id": "2f48764f",
   "metadata": {},
   "outputs": [],
   "source": [
    "print(f\"Premium time left: {left}\")"
   ]
  },
  {
   "cell_type": "code",
   "execution_count": null,
   "id": "d4e8878a",
   "metadata": {},
   "outputs": [],
   "source": [
    "torrent_list = rd.get_torrents(limit=100, offset=0)\n",
    "print(torrent_list)"
   ]
  },
  {
   "cell_type": "code",
   "execution_count": null,
   "id": "d06e57d5",
   "metadata": {},
   "outputs": [],
   "source": [
    "import json\n",
    "for torrent in torrent_list:\n",
    "    print(torrent.model_dump_json(indent=2))"
   ]
  },
  {
   "cell_type": "code",
   "execution_count": null,
   "id": "ffd6cba7",
   "metadata": {},
   "outputs": [],
   "source": [
    "#rd.add_magnet(\n",
    "#    magnet_url=\"magnet:?xt=urn:btih:EDC2CC69C4C4E05F6DA9E2E2971D13776019672E&tr=http%3A%2F%2Fbt3.t-ru.org%2Fann%3Fmagnet&dn=%D0%9B%D1%83%D1%87%D1%88%D0%B5%20%D0%B7%D0%B2%D0%BE%D0%BD%D0%B8%D1%82%D0%B5%20%D0%A1%D0%BE%D0%BB%D1%83%20%2F%20Better%20Call%20Saul%20%2F%20%D0%A1%D0%B5%D0%B7%D0%BE%D0%BD%3A%202%20%2F%20%D0%A1%D0%B5%D1%80%D0%B8%D0%B8%3A%201-10%20%D0%B8%D0%B7%2010%20(%D0%9A%D0%BE%D0%BB%D0%B8%D0%BD%20%D0%91%D0%B0%D0%BA%D1%81%D0%B8%2C%20%D0%90%D0%B4%D0%B0%D0%BC%20%D0%91%D0%B5%D1%80%D0%BD%D1%88%D1%82%D0%B5%D0%B9%D0%BD%2C%20%D0%92%D0%B8%D0%BD%D1%81%20%D0%93%D0%B8%D0%BB%D0%BB%D0%B8%D0%B3%D0%B0%D0%BD)%20%5B2016%2C%20%D0%A1%D0%A8%D0%90%2C%20%D0%B4%D1%80%D0%B0%D0%BC%D0%B0%2C%20%D0%BA%D0%BE%D0%BC%D0%B5%D0%B4%D0%B8%D1%8F%2C%20%D0%BA%D1%80%D0%B8%D0%BC%D0%B8%D0%BD%D0%B0%D0%BB\"\n",
    "#)"
   ]
  },
  {
   "cell_type": "code",
   "execution_count": null,
   "id": "64e30ad0",
   "metadata": {},
   "outputs": [],
   "source": [
    "rd.get_torrent_info(\"5AURDUHP5YSSO\")"
   ]
  },
  {
   "cell_type": "markdown",
   "id": "18d7a025",
   "metadata": {},
   "source": [
    "# Torrent search"
   ]
  },
  {
   "cell_type": "code",
   "execution_count": null,
   "id": "315de2e1",
   "metadata": {},
   "outputs": [],
   "source": [
    "TORZSNAB_URL = os.environ[\"TORZSNAB_URL\"]\n",
    "TORZSNAB_API_KEY = os.environ[\"TORZSNAB_API_KEY\"]"
   ]
  },
  {
   "cell_type": "code",
   "execution_count": null,
   "id": "540a9862",
   "metadata": {},
   "outputs": [],
   "source": [
    "%load_ext autoreload\n",
    "%autoreload 2\n",
    "from jackett import JackettAPI\n",
    "jackett = JackettAPI(TORZSNAB_URL, TORZSNAB_API_KEY)"
   ]
  },
  {
   "cell_type": "code",
   "execution_count": null,
   "id": "dc4896bd",
   "metadata": {},
   "outputs": [],
   "source": [
    "items = jackett.search(\"ubuntu 22.04\")"
   ]
  },
  {
   "cell_type": "code",
   "execution_count": null,
   "id": "81be04be",
   "metadata": {},
   "outputs": [],
   "source": [
    "for item in items:\n",
    "    print(f\"{item.title}\\n\\t{item.link}\\n\\tSince: {item.pub_date}. Seeders: {item.torznab_attrs['seeders']}\")"
   ]
  },
  {
   "cell_type": "code",
   "execution_count": null,
   "id": "52c8d1e3",
   "metadata": {},
   "outputs": [],
   "source": [
    "import httpx\n",
    "response = httpx.get(\n",
    "    url=items[0].link,\n",
    ")"
   ]
  },
  {
   "cell_type": "code",
   "execution_count": null,
   "id": "ac2328a4",
   "metadata": {},
   "outputs": [],
   "source": [
    "rd.add_torrent_file(response.content)"
   ]
  }
 ],
 "metadata": {
  "kernelspec": {
   "display_name": "Python 3",
   "language": "python",
   "name": "python3"
  },
  "language_info": {
   "codemirror_mode": {
    "name": "ipython",
    "version": 3
   },
   "file_extension": ".py",
   "mimetype": "text/x-python",
   "name": "python",
   "nbconvert_exporter": "python",
   "pygments_lexer": "ipython3",
   "version": "3.13.2"
  }
 },
 "nbformat": 4,
 "nbformat_minor": 5
}
