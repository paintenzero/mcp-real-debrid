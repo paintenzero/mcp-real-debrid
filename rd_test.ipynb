{
 "cells": [
  {
   "cell_type": "code",
   "execution_count": 1,
   "id": "7deb6bb7",
   "metadata": {},
   "outputs": [],
   "source": [
    "%load_ext autoreload\n",
    "%autoreload 2\n",
    "from real_debrid import RealDebrid, RDTorrent, RDHost"
   ]
  },
  {
   "cell_type": "code",
   "execution_count": 2,
   "id": "ffd62363",
   "metadata": {},
   "outputs": [
    {
     "data": {
      "text/plain": [
       "True"
      ]
     },
     "execution_count": 2,
     "metadata": {},
     "output_type": "execute_result"
    }
   ],
   "source": [
    "from dotenv import load_dotenv\n",
    "load_dotenv()"
   ]
  },
  {
   "cell_type": "code",
   "execution_count": 3,
   "id": "7f4045b6",
   "metadata": {},
   "outputs": [],
   "source": [
    "import os\n",
    "rd = RealDebrid(token=os.environ[\"RD_TOKEN\"])"
   ]
  },
  {
   "cell_type": "code",
   "execution_count": 4,
   "id": "088b27bd",
   "metadata": {},
   "outputs": [
    {
     "name": "stderr",
     "output_type": "stream",
     "text": [
      "DEBUG:httpcore.connection:connect_tcp.started host='api.real-debrid.com' port=443 local_address=None timeout=10 socket_options=None\n",
      "DEBUG:httpcore.connection:connect_tcp.complete return_value=<httpcore._backends.sync.SyncStream object at 0x00000184DD1A6900>\n",
      "DEBUG:httpcore.connection:start_tls.started ssl_context=<ssl.SSLContext object at 0x00000184DD308A70> server_hostname='api.real-debrid.com' timeout=10\n",
      "DEBUG:httpcore.connection:start_tls.complete return_value=<httpcore._backends.sync.SyncStream object at 0x00000184DD1B25D0>\n",
      "DEBUG:httpcore.http11:send_request_headers.started request=<Request [b'GET']>\n",
      "DEBUG:httpcore.http11:send_request_headers.complete\n",
      "DEBUG:httpcore.http11:send_request_body.started request=<Request [b'GET']>\n",
      "DEBUG:httpcore.http11:send_request_body.complete\n",
      "DEBUG:httpcore.http11:receive_response_headers.started request=<Request [b'GET']>\n"
     ]
    },
    {
     "name": "stdout",
     "output_type": "stream",
     "text": [
      "Authenticating...\n"
     ]
    },
    {
     "name": "stderr",
     "output_type": "stream",
     "text": [
      "DEBUG:httpcore.http11:receive_response_headers.complete return_value=(b'HTTP/1.1', 200, b'OK', [(b'Date', b'Sat, 05 Apr 2025 19:15:28 GMT'), (b'Content-Type', b'application/json'), (b'Transfer-Encoding', b'chunked'), (b'Connection', b'keep-alive'), (b'Keep-Alive', b'timeout=8'), (b'Vary', b'Accept-Encoding'), (b'Vary', b'Accept-Encoding'), (b'X-Served-By', b'B6'), (b'X-Cached', b'MISS'), (b'Content-Encoding', b'gzip')])\n",
      "INFO:httpx:HTTP Request: GET https://api.real-debrid.com/rest/1.0/time \"HTTP/1.1 200 OK\"\n",
      "DEBUG:httpcore.http11:receive_response_body.started request=<Request [b'GET']>\n",
      "DEBUG:httpcore.http11:receive_response_body.complete\n",
      "DEBUG:httpcore.http11:response_closed.started\n",
      "DEBUG:httpcore.http11:response_closed.complete\n"
     ]
    },
    {
     "data": {
      "text/plain": [
       "datetime.datetime(2025, 4, 5, 21, 15, 28)"
      ]
     },
     "execution_count": 4,
     "metadata": {},
     "output_type": "execute_result"
    }
   ],
   "source": [
    "rd.get_time()"
   ]
  },
  {
   "cell_type": "code",
   "execution_count": 5,
   "id": "95f31bfa",
   "metadata": {},
   "outputs": [
    {
     "name": "stderr",
     "output_type": "stream",
     "text": [
      "DEBUG:httpcore.http11:send_request_headers.started request=<Request [b'GET']>\n",
      "DEBUG:httpcore.http11:send_request_headers.complete\n",
      "DEBUG:httpcore.http11:send_request_body.started request=<Request [b'GET']>\n",
      "DEBUG:httpcore.http11:send_request_body.complete\n",
      "DEBUG:httpcore.http11:receive_response_headers.started request=<Request [b'GET']>\n",
      "DEBUG:httpcore.http11:receive_response_headers.complete return_value=(b'HTTP/1.1', 200, b'OK', [(b'Date', b'Sat, 05 Apr 2025 19:15:28 GMT'), (b'Content-Type', b'application/json'), (b'Transfer-Encoding', b'chunked'), (b'Connection', b'keep-alive'), (b'Keep-Alive', b'timeout=8'), (b'Vary', b'Accept-Encoding'), (b'Vary', b'Accept-Encoding'), (b'X-Served-By', b'B5'), (b'X-Cached', b'MISS'), (b'Content-Encoding', b'gzip')])\n",
      "INFO:httpx:HTTP Request: GET https://api.real-debrid.com/rest/1.0/user \"HTTP/1.1 200 OK\"\n",
      "DEBUG:httpcore.http11:receive_response_body.started request=<Request [b'GET']>\n",
      "DEBUG:httpcore.http11:receive_response_body.complete\n",
      "DEBUG:httpcore.http11:response_closed.started\n",
      "DEBUG:httpcore.http11:response_closed.complete\n"
     ]
    },
    {
     "name": "stdout",
     "output_type": "stream",
     "text": [
      "Authenticating...\n"
     ]
    },
    {
     "data": {
      "text/plain": [
       "{'id': 12232065,\n",
       " 'username': 'paintenzero',\n",
       " 'email': 'ser******@yahoo.com',\n",
       " 'points': 1200,\n",
       " 'locale': 'en',\n",
       " 'avatar': 'https://fcdn.real-debrid.com/images/forum/empty.png',\n",
       " 'type': 'premium',\n",
       " 'premium': 5137041,\n",
       " 'expiration': '2025-06-04T08:12:49.000Z'}"
      ]
     },
     "execution_count": 5,
     "metadata": {},
     "output_type": "execute_result"
    }
   ],
   "source": [
    "rd.get_user_info()"
   ]
  },
  {
   "cell_type": "code",
   "execution_count": 6,
   "id": "1fed9aac",
   "metadata": {},
   "outputs": [
    {
     "name": "stderr",
     "output_type": "stream",
     "text": [
      "DEBUG:httpcore.http11:send_request_headers.started request=<Request [b'GET']>\n",
      "DEBUG:httpcore.http11:send_request_headers.complete\n",
      "DEBUG:httpcore.http11:send_request_body.started request=<Request [b'GET']>\n",
      "DEBUG:httpcore.http11:send_request_body.complete\n",
      "DEBUG:httpcore.http11:receive_response_headers.started request=<Request [b'GET']>\n"
     ]
    },
    {
     "name": "stdout",
     "output_type": "stream",
     "text": [
      "Authenticating...\n"
     ]
    },
    {
     "name": "stderr",
     "output_type": "stream",
     "text": [
      "DEBUG:httpcore.http11:receive_response_headers.complete return_value=(b'HTTP/1.1', 200, b'OK', [(b'Date', b'Sat, 05 Apr 2025 19:15:28 GMT'), (b'Content-Type', b'application/json'), (b'Transfer-Encoding', b'chunked'), (b'Connection', b'keep-alive'), (b'Keep-Alive', b'timeout=8'), (b'Vary', b'Accept-Encoding'), (b'Vary', b'Accept-Encoding'), (b'X-Served-By', b'B4'), (b'X-Cached', b'MISS'), (b'Content-Encoding', b'gzip')])\n",
      "INFO:httpx:HTTP Request: GET https://api.real-debrid.com/rest/1.0/user \"HTTP/1.1 200 OK\"\n",
      "DEBUG:httpcore.http11:receive_response_body.started request=<Request [b'GET']>\n",
      "DEBUG:httpcore.http11:receive_response_body.complete\n",
      "DEBUG:httpcore.http11:response_closed.started\n",
      "DEBUG:httpcore.http11:response_closed.complete\n",
      "DEBUG:httpcore.http11:send_request_headers.started request=<Request [b'GET']>\n",
      "DEBUG:httpcore.http11:send_request_headers.complete\n",
      "DEBUG:httpcore.http11:send_request_body.started request=<Request [b'GET']>\n",
      "DEBUG:httpcore.http11:send_request_body.complete\n",
      "DEBUG:httpcore.http11:receive_response_headers.started request=<Request [b'GET']>\n"
     ]
    },
    {
     "name": "stdout",
     "output_type": "stream",
     "text": [
      "Authenticating...\n"
     ]
    },
    {
     "name": "stderr",
     "output_type": "stream",
     "text": [
      "DEBUG:httpcore.http11:receive_response_headers.complete return_value=(b'HTTP/1.1', 200, b'OK', [(b'Date', b'Sat, 05 Apr 2025 19:15:28 GMT'), (b'Content-Type', b'application/json'), (b'Transfer-Encoding', b'chunked'), (b'Connection', b'keep-alive'), (b'Keep-Alive', b'timeout=8'), (b'Vary', b'Accept-Encoding'), (b'Vary', b'Accept-Encoding'), (b'X-Served-By', b'B2'), (b'X-Cached', b'MISS'), (b'Content-Encoding', b'gzip')])\n",
      "INFO:httpx:HTTP Request: GET https://api.real-debrid.com/rest/1.0/time \"HTTP/1.1 200 OK\"\n",
      "DEBUG:httpcore.http11:receive_response_body.started request=<Request [b'GET']>\n",
      "DEBUG:httpcore.http11:receive_response_body.complete\n",
      "DEBUG:httpcore.http11:response_closed.started\n",
      "DEBUG:httpcore.http11:response_closed.complete\n"
     ]
    }
   ],
   "source": [
    "left = rd.get_premium_time_left()"
   ]
  },
  {
   "cell_type": "code",
   "execution_count": 7,
   "id": "2f48764f",
   "metadata": {},
   "outputs": [
    {
     "name": "stdout",
     "output_type": "stream",
     "text": [
      "Premium time left: 59 days, 10:57:21\n"
     ]
    }
   ],
   "source": [
    "print(f\"Premium time left: {left}\")"
   ]
  },
  {
   "cell_type": "code",
   "execution_count": 8,
   "id": "d4e8878a",
   "metadata": {},
   "outputs": [
    {
     "name": "stderr",
     "output_type": "stream",
     "text": [
      "DEBUG:httpcore.http11:send_request_headers.started request=<Request [b'GET']>\n",
      "DEBUG:httpcore.http11:send_request_headers.complete\n",
      "DEBUG:httpcore.http11:send_request_body.started request=<Request [b'GET']>\n",
      "DEBUG:httpcore.http11:send_request_body.complete\n",
      "DEBUG:httpcore.http11:receive_response_headers.started request=<Request [b'GET']>\n"
     ]
    },
    {
     "name": "stdout",
     "output_type": "stream",
     "text": [
      "Authenticating...\n"
     ]
    },
    {
     "name": "stderr",
     "output_type": "stream",
     "text": [
      "DEBUG:httpcore.http11:receive_response_headers.complete return_value=(b'HTTP/1.1', 200, b'OK', [(b'Date', b'Sat, 05 Apr 2025 19:15:29 GMT'), (b'Content-Type', b'application/json'), (b'Transfer-Encoding', b'chunked'), (b'Connection', b'keep-alive'), (b'Keep-Alive', b'timeout=8'), (b'Vary', b'Accept-Encoding'), (b'Vary', b'Accept-Encoding'), (b'X-Served-By', b'B6'), (b'X-Total-Count', b'16'), (b'X-Cached', b'MISS'), (b'Content-Encoding', b'gzip')])\n",
      "INFO:httpx:HTTP Request: GET https://api.real-debrid.com/rest/1.0/torrents?limit=100 \"HTTP/1.1 200 OK\"\n",
      "DEBUG:httpcore.http11:receive_response_body.started request=<Request [b'GET']>\n",
      "DEBUG:httpcore.http11:receive_response_body.complete\n",
      "DEBUG:httpcore.http11:response_closed.started\n",
      "DEBUG:httpcore.http11:response_closed.complete\n"
     ]
    },
    {
     "name": "stdout",
     "output_type": "stream",
     "text": [
      "[RDTorrent(id='4ZB7M3D7VFUYE', filename='Adolescence (Season 1) WEB-DL 1080p', hash='77688e8425ab60085be09bc7cdf4dbc225fed08e', bytes=13948291947, host='real-debrid.com', split=2000, progress=100, status='downloaded', added='2025-03-26T06:12:58.000Z', links=['https://real-debrid.com/d/SDTH2AC6QHK32EDE', 'https://real-debrid.com/d/PHH4PCIJG5IWK965', 'https://real-debrid.com/d/4MKYM3OAJVHGW784', 'https://real-debrid.com/d/SB6OFWUUYFVKUA83'], ended='2025-03-22T23:40:35.000Z', speed=None, seeders=None), RDTorrent(id='Y3IQJI7CQ3EG4', filename='Dostuchatsya.do.nebes.2.2023.WEB-DLRip.AVC.mkv', hash='61b73c62424c4cdd07409b8d218955ac4f6bb54f', bytes=1569601733, host='real-debrid.com', split=2000, progress=100, status='downloaded', added='2025-01-26T09:07:02.000Z', links=['https://real-debrid.com/d/DCR4WJSRW4PXS40D'], ended='2025-01-26T09:10:21.000Z', speed=None, seeders=None), RDTorrent(id='DTBZHWKNB4H56', filename='[NOOBDL]The.Gone.S01.1080p.KP.WEB-DL.x264', hash='7232429085af95ce32582607c84bbff997e65e3c', bytes=9810357455, host='real-debrid.com', split=2000, progress=100, status='downloaded', added='2025-01-08T14:47:48.000Z', links=['https://real-debrid.com/d/FROOAEGJVRJBSB6E', 'https://real-debrid.com/d/H463VWLSXPUUS13E', 'https://real-debrid.com/d/52FMT5JJIKISOC88', 'https://real-debrid.com/d/URDVRYMPISG52B0C', 'https://real-debrid.com/d/YI5LPW7VJ464SD12', 'https://real-debrid.com/d/OCV2VZ57A2KFWA64'], ended='2024-08-22T03:27:18.000Z', speed=None, seeders=None), RDTorrent(id='67IMIO2AGO2MU', filename='Dune Prophecy (Season 1) WEB-DL 1080p', hash='c51d2484d6a887d57c52c3fee2ba09345920fdac', bytes=29256506494, host='real-debrid.com', split=2000, progress=100, status='downloaded', added='2025-01-08T14:45:03.000Z', links=['https://real-debrid.com/d/CTVU7UCOXPJLG9C8', 'https://real-debrid.com/d/MUFBTYFGVMO7Y2C6', 'https://real-debrid.com/d/J4UWGT6ID3PR64B7', 'https://real-debrid.com/d/GQI25IIUABB363C9', 'https://real-debrid.com/d/JRNQV4QYWL5RU5AD', 'https://real-debrid.com/d/HOTUGFFXIX3SO784'], ended='2024-12-30T19:14:21.000Z', speed=None, seeders=None), RDTorrent(id='RPWSKA6NDSKCC', filename='His Dark Materials (S01)', hash='a23dfabd5f8748084e8f4460901ffe0944c3ff81', bytes=18844774450, host='real-debrid.com', split=2000, progress=100, status='downloaded', added='2025-01-08T11:29:44.000Z', links=['https://real-debrid.com/d/WHOVAXHMTVIBYB21', 'https://real-debrid.com/d/JZQMMAMZIPHPY4F1', 'https://real-debrid.com/d/2UHYKP5P3NAGEB36', 'https://real-debrid.com/d/TRFY7REW5EGEWF9D', 'https://real-debrid.com/d/ZORNWF4Z2QNRS913', 'https://real-debrid.com/d/RXZW66KR7JBKUE2F', 'https://real-debrid.com/d/PQPICCALYJLFI527', 'https://real-debrid.com/d/YWZRB3EYUWHBM1E6'], ended='2025-01-08T12:32:01.000Z', speed=None, seeders=None), RDTorrent(id='XOSOS7KC2IKC4', filename='Harry Potter and the Deathly Hallows Part 2 (2011) Extended Edition v2.1.mkv', hash='1c0a06bf35a99c4f23a46f8bf7f9f191894ac40d', bytes=9007649808, host='real-debrid.com', split=2000, progress=100, status='downloaded', added='2024-12-27T18:58:14.000Z', links=['https://real-debrid.com/d/5MR7OX4YUW43WEDD'], ended='2023-12-15T03:29:02.000Z', speed=None, seeders=None), RDTorrent(id='3GFW4GZZFGJUY', filename='Harry Potter and the Deathly Hallows Part 1 (2010) Extended Edition v2.1.mkv', hash='981eb834925dbc8afd3263ea2ee495bf9a631511', bytes=10484884477, host='real-debrid.com', split=2000, progress=100, status='downloaded', added='2024-12-27T18:58:04.000Z', links=['https://real-debrid.com/d/PTXGAFDPZ2SW2A0C'], ended='2023-08-30T18:40:16.000Z', speed=None, seeders=None), RDTorrent(id='TVQRJLVVAJYGE', filename='Harry Potter and the Half-Blood Prince Extended Edition v2.1.mkv', hash='e6b4771ade8a9a3660047c412a4c70606421457b', bytes=10670283463, host='real-debrid.com', split=2000, progress=100, status='downloaded', added='2024-12-27T18:57:37.000Z', links=['https://real-debrid.com/d/VPS5O5VKVXWDEBCE'], ended='2024-12-27T19:03:27.000Z', speed=None, seeders=None), RDTorrent(id='2LIQ2RIP3FRHM', filename='Harry Potter and the Order of the Phoenix Extended Edition v2.1.mkv', hash='56e1d4b0cf864e5811ed191e00144c240ee060fd', bytes=9757430291, host='real-debrid.com', split=2000, progress=100, status='downloaded', added='2024-12-27T18:57:08.000Z', links=['https://real-debrid.com/d/FWB25QT4NDT7U531'], ended='2024-12-10T20:07:55.000Z', speed=None, seeders=None), RDTorrent(id='VLQRGQO6WSSJA', filename='Harry.Potter.and.the.Goblet.of.Fire.2005.Open.Matte.1080p.WEB-DL.6xRus.Eng.mkv', hash='1c9b63c44c5c1d879f7a27ccd47ce0f192bc0127', bytes=20865419607, host='real-debrid.com', split=2000, progress=100, status='downloaded', added='2024-12-27T18:56:42.000Z', links=['https://real-debrid.com/d/KOHNRDJKQI7GWE8E'], ended='2020-03-25T06:20:31.000Z', speed=None, seeders=None), RDTorrent(id='FKTF3HKN3MMRS', filename='Harry Potter and the Prisoner of Azkaban Extended Edition v2.1.mkv', hash='9f5477e5bb1f38c80c17ae00aea878feeaa8b4a3', bytes=9870083289, host='real-debrid.com', split=2000, progress=100, status='downloaded', added='2024-12-27T18:56:05.000Z', links=['https://real-debrid.com/d/RMW6FVLFDBDIEEE5'], ended='2024-09-30T20:57:22.000Z', speed=None, seeders=None), RDTorrent(id='MIE4XVDG7Q46O', filename='Harry.Potter.and.the.Chamber.of.Secrets.2002.Extended.Cut.BDRip.1080p-SOFCJ.mkv', hash='a6ec79dda559046a690bc47f77940ef2cf62ab06', bytes=22709815377, host='real-debrid.com', split=2000, progress=100, status='downloaded', added='2024-12-25T16:10:27.000Z', links=['https://real-debrid.com/d/WILSCUE27TGL2C0D'], ended='2024-01-08T20:42:24.000Z', speed=None, seeders=None), RDTorrent(id='NO4KLRFK6G5Q4', filename=\"Harry.Potter.and.the.Sorcerer's.Stone.2001.Open.Matte.1080p.WEB-DL.11xRus.Eng.mkv\", hash='5b23305d8755da4fdae37547e876c097096aa90f', bytes=24456938735, host='real-debrid.com', split=2000, progress=100, status='downloaded', added='2024-12-22T18:02:49.000Z', links=['https://real-debrid.com/d/QFZHWDDXNFSZW23B'], ended='2024-02-01T11:38:24.000Z', speed=None, seeders=None), RDTorrent(id='OSOGJLNL564KU', filename='Chelovek.s.zemli.2007.x264.BDRip.1080p.mkv', hash='6d95cbb71d932dbbc7a439ccc23445237a478d08', bytes=8675023304, host='real-debrid.com', split=2000, progress=100, status='downloaded', added='2024-11-01T06:58:03.000Z', links=['https://real-debrid.com/d/IXSRWHYBCGOJQD1E'], ended='2024-11-01T07:15:34.000Z', speed=None, seeders=None), RDTorrent(id='ITWDQNF6DDMEE', filename='The.Man.from.Earth.Holocene.2017.REMUX.mkv', hash='8335b66fe9a9fdd417f6739449ebb31aaca077f6', bytes=21301706223, host='real-debrid.com', split=2000, progress=100, status='downloaded', added='2024-11-01T06:57:55.000Z', links=['https://real-debrid.com/d/BQQIIPZH573PM606'], ended='2024-01-05T00:10:30.000Z', speed=None, seeders=None), RDTorrent(id='5YO4HNVKZSJMI', filename='The.Matrix.Resurrections.2021.WEB-DLRip.1080p.seleZen.mkv', hash='037e86c7816c5d943d42b71068f29c328093f70a', bytes=8412442409, host='real-debrid.com', split=2000, progress=100, status='downloaded', added='2024-10-06T20:01:22.000Z', links=['https://real-debrid.com/d/WT6CJEE6IAEIO480'], ended='2023-11-21T02:47:34.000Z', speed=None, seeders=None)]\n"
     ]
    }
   ],
   "source": [
    "torrent_list = rd.get_torrents(limit=100, offset=0)\n",
    "print(torrent_list)"
   ]
  },
  {
   "cell_type": "code",
   "execution_count": 9,
   "id": "d06e57d5",
   "metadata": {},
   "outputs": [
    {
     "name": "stdout",
     "output_type": "stream",
     "text": [
      "{\n",
      "  \"id\": \"4ZB7M3D7VFUYE\",\n",
      "  \"filename\": \"Adolescence (Season 1) WEB-DL 1080p\",\n",
      "  \"hash\": \"77688e8425ab60085be09bc7cdf4dbc225fed08e\",\n",
      "  \"bytes\": 13948291947,\n",
      "  \"host\": \"real-debrid.com\",\n",
      "  \"split\": 2000,\n",
      "  \"progress\": 100,\n",
      "  \"status\": \"downloaded\",\n",
      "  \"added\": \"2025-03-26T06:12:58.000Z\",\n",
      "  \"links\": [\n",
      "    \"https://real-debrid.com/d/SDTH2AC6QHK32EDE\",\n",
      "    \"https://real-debrid.com/d/PHH4PCIJG5IWK965\",\n",
      "    \"https://real-debrid.com/d/4MKYM3OAJVHGW784\",\n",
      "    \"https://real-debrid.com/d/SB6OFWUUYFVKUA83\"\n",
      "  ],\n",
      "  \"ended\": \"2025-03-22T23:40:35.000Z\",\n",
      "  \"speed\": null,\n",
      "  \"seeders\": null\n",
      "}\n",
      "{\n",
      "  \"id\": \"Y3IQJI7CQ3EG4\",\n",
      "  \"filename\": \"Dostuchatsya.do.nebes.2.2023.WEB-DLRip.AVC.mkv\",\n",
      "  \"hash\": \"61b73c62424c4cdd07409b8d218955ac4f6bb54f\",\n",
      "  \"bytes\": 1569601733,\n",
      "  \"host\": \"real-debrid.com\",\n",
      "  \"split\": 2000,\n",
      "  \"progress\": 100,\n",
      "  \"status\": \"downloaded\",\n",
      "  \"added\": \"2025-01-26T09:07:02.000Z\",\n",
      "  \"links\": [\n",
      "    \"https://real-debrid.com/d/DCR4WJSRW4PXS40D\"\n",
      "  ],\n",
      "  \"ended\": \"2025-01-26T09:10:21.000Z\",\n",
      "  \"speed\": null,\n",
      "  \"seeders\": null\n",
      "}\n",
      "{\n",
      "  \"id\": \"DTBZHWKNB4H56\",\n",
      "  \"filename\": \"[NOOBDL]The.Gone.S01.1080p.KP.WEB-DL.x264\",\n",
      "  \"hash\": \"7232429085af95ce32582607c84bbff997e65e3c\",\n",
      "  \"bytes\": 9810357455,\n",
      "  \"host\": \"real-debrid.com\",\n",
      "  \"split\": 2000,\n",
      "  \"progress\": 100,\n",
      "  \"status\": \"downloaded\",\n",
      "  \"added\": \"2025-01-08T14:47:48.000Z\",\n",
      "  \"links\": [\n",
      "    \"https://real-debrid.com/d/FROOAEGJVRJBSB6E\",\n",
      "    \"https://real-debrid.com/d/H463VWLSXPUUS13E\",\n",
      "    \"https://real-debrid.com/d/52FMT5JJIKISOC88\",\n",
      "    \"https://real-debrid.com/d/URDVRYMPISG52B0C\",\n",
      "    \"https://real-debrid.com/d/YI5LPW7VJ464SD12\",\n",
      "    \"https://real-debrid.com/d/OCV2VZ57A2KFWA64\"\n",
      "  ],\n",
      "  \"ended\": \"2024-08-22T03:27:18.000Z\",\n",
      "  \"speed\": null,\n",
      "  \"seeders\": null\n",
      "}\n",
      "{\n",
      "  \"id\": \"67IMIO2AGO2MU\",\n",
      "  \"filename\": \"Dune Prophecy (Season 1) WEB-DL 1080p\",\n",
      "  \"hash\": \"c51d2484d6a887d57c52c3fee2ba09345920fdac\",\n",
      "  \"bytes\": 29256506494,\n",
      "  \"host\": \"real-debrid.com\",\n",
      "  \"split\": 2000,\n",
      "  \"progress\": 100,\n",
      "  \"status\": \"downloaded\",\n",
      "  \"added\": \"2025-01-08T14:45:03.000Z\",\n",
      "  \"links\": [\n",
      "    \"https://real-debrid.com/d/CTVU7UCOXPJLG9C8\",\n",
      "    \"https://real-debrid.com/d/MUFBTYFGVMO7Y2C6\",\n",
      "    \"https://real-debrid.com/d/J4UWGT6ID3PR64B7\",\n",
      "    \"https://real-debrid.com/d/GQI25IIUABB363C9\",\n",
      "    \"https://real-debrid.com/d/JRNQV4QYWL5RU5AD\",\n",
      "    \"https://real-debrid.com/d/HOTUGFFXIX3SO784\"\n",
      "  ],\n",
      "  \"ended\": \"2024-12-30T19:14:21.000Z\",\n",
      "  \"speed\": null,\n",
      "  \"seeders\": null\n",
      "}\n",
      "{\n",
      "  \"id\": \"RPWSKA6NDSKCC\",\n",
      "  \"filename\": \"His Dark Materials (S01)\",\n",
      "  \"hash\": \"a23dfabd5f8748084e8f4460901ffe0944c3ff81\",\n",
      "  \"bytes\": 18844774450,\n",
      "  \"host\": \"real-debrid.com\",\n",
      "  \"split\": 2000,\n",
      "  \"progress\": 100,\n",
      "  \"status\": \"downloaded\",\n",
      "  \"added\": \"2025-01-08T11:29:44.000Z\",\n",
      "  \"links\": [\n",
      "    \"https://real-debrid.com/d/WHOVAXHMTVIBYB21\",\n",
      "    \"https://real-debrid.com/d/JZQMMAMZIPHPY4F1\",\n",
      "    \"https://real-debrid.com/d/2UHYKP5P3NAGEB36\",\n",
      "    \"https://real-debrid.com/d/TRFY7REW5EGEWF9D\",\n",
      "    \"https://real-debrid.com/d/ZORNWF4Z2QNRS913\",\n",
      "    \"https://real-debrid.com/d/RXZW66KR7JBKUE2F\",\n",
      "    \"https://real-debrid.com/d/PQPICCALYJLFI527\",\n",
      "    \"https://real-debrid.com/d/YWZRB3EYUWHBM1E6\"\n",
      "  ],\n",
      "  \"ended\": \"2025-01-08T12:32:01.000Z\",\n",
      "  \"speed\": null,\n",
      "  \"seeders\": null\n",
      "}\n",
      "{\n",
      "  \"id\": \"XOSOS7KC2IKC4\",\n",
      "  \"filename\": \"Harry Potter and the Deathly Hallows Part 2 (2011) Extended Edition v2.1.mkv\",\n",
      "  \"hash\": \"1c0a06bf35a99c4f23a46f8bf7f9f191894ac40d\",\n",
      "  \"bytes\": 9007649808,\n",
      "  \"host\": \"real-debrid.com\",\n",
      "  \"split\": 2000,\n",
      "  \"progress\": 100,\n",
      "  \"status\": \"downloaded\",\n",
      "  \"added\": \"2024-12-27T18:58:14.000Z\",\n",
      "  \"links\": [\n",
      "    \"https://real-debrid.com/d/5MR7OX4YUW43WEDD\"\n",
      "  ],\n",
      "  \"ended\": \"2023-12-15T03:29:02.000Z\",\n",
      "  \"speed\": null,\n",
      "  \"seeders\": null\n",
      "}\n",
      "{\n",
      "  \"id\": \"3GFW4GZZFGJUY\",\n",
      "  \"filename\": \"Harry Potter and the Deathly Hallows Part 1 (2010) Extended Edition v2.1.mkv\",\n",
      "  \"hash\": \"981eb834925dbc8afd3263ea2ee495bf9a631511\",\n",
      "  \"bytes\": 10484884477,\n",
      "  \"host\": \"real-debrid.com\",\n",
      "  \"split\": 2000,\n",
      "  \"progress\": 100,\n",
      "  \"status\": \"downloaded\",\n",
      "  \"added\": \"2024-12-27T18:58:04.000Z\",\n",
      "  \"links\": [\n",
      "    \"https://real-debrid.com/d/PTXGAFDPZ2SW2A0C\"\n",
      "  ],\n",
      "  \"ended\": \"2023-08-30T18:40:16.000Z\",\n",
      "  \"speed\": null,\n",
      "  \"seeders\": null\n",
      "}\n",
      "{\n",
      "  \"id\": \"TVQRJLVVAJYGE\",\n",
      "  \"filename\": \"Harry Potter and the Half-Blood Prince Extended Edition v2.1.mkv\",\n",
      "  \"hash\": \"e6b4771ade8a9a3660047c412a4c70606421457b\",\n",
      "  \"bytes\": 10670283463,\n",
      "  \"host\": \"real-debrid.com\",\n",
      "  \"split\": 2000,\n",
      "  \"progress\": 100,\n",
      "  \"status\": \"downloaded\",\n",
      "  \"added\": \"2024-12-27T18:57:37.000Z\",\n",
      "  \"links\": [\n",
      "    \"https://real-debrid.com/d/VPS5O5VKVXWDEBCE\"\n",
      "  ],\n",
      "  \"ended\": \"2024-12-27T19:03:27.000Z\",\n",
      "  \"speed\": null,\n",
      "  \"seeders\": null\n",
      "}\n",
      "{\n",
      "  \"id\": \"2LIQ2RIP3FRHM\",\n",
      "  \"filename\": \"Harry Potter and the Order of the Phoenix Extended Edition v2.1.mkv\",\n",
      "  \"hash\": \"56e1d4b0cf864e5811ed191e00144c240ee060fd\",\n",
      "  \"bytes\": 9757430291,\n",
      "  \"host\": \"real-debrid.com\",\n",
      "  \"split\": 2000,\n",
      "  \"progress\": 100,\n",
      "  \"status\": \"downloaded\",\n",
      "  \"added\": \"2024-12-27T18:57:08.000Z\",\n",
      "  \"links\": [\n",
      "    \"https://real-debrid.com/d/FWB25QT4NDT7U531\"\n",
      "  ],\n",
      "  \"ended\": \"2024-12-10T20:07:55.000Z\",\n",
      "  \"speed\": null,\n",
      "  \"seeders\": null\n",
      "}\n",
      "{\n",
      "  \"id\": \"VLQRGQO6WSSJA\",\n",
      "  \"filename\": \"Harry.Potter.and.the.Goblet.of.Fire.2005.Open.Matte.1080p.WEB-DL.6xRus.Eng.mkv\",\n",
      "  \"hash\": \"1c9b63c44c5c1d879f7a27ccd47ce0f192bc0127\",\n",
      "  \"bytes\": 20865419607,\n",
      "  \"host\": \"real-debrid.com\",\n",
      "  \"split\": 2000,\n",
      "  \"progress\": 100,\n",
      "  \"status\": \"downloaded\",\n",
      "  \"added\": \"2024-12-27T18:56:42.000Z\",\n",
      "  \"links\": [\n",
      "    \"https://real-debrid.com/d/KOHNRDJKQI7GWE8E\"\n",
      "  ],\n",
      "  \"ended\": \"2020-03-25T06:20:31.000Z\",\n",
      "  \"speed\": null,\n",
      "  \"seeders\": null\n",
      "}\n",
      "{\n",
      "  \"id\": \"FKTF3HKN3MMRS\",\n",
      "  \"filename\": \"Harry Potter and the Prisoner of Azkaban Extended Edition v2.1.mkv\",\n",
      "  \"hash\": \"9f5477e5bb1f38c80c17ae00aea878feeaa8b4a3\",\n",
      "  \"bytes\": 9870083289,\n",
      "  \"host\": \"real-debrid.com\",\n",
      "  \"split\": 2000,\n",
      "  \"progress\": 100,\n",
      "  \"status\": \"downloaded\",\n",
      "  \"added\": \"2024-12-27T18:56:05.000Z\",\n",
      "  \"links\": [\n",
      "    \"https://real-debrid.com/d/RMW6FVLFDBDIEEE5\"\n",
      "  ],\n",
      "  \"ended\": \"2024-09-30T20:57:22.000Z\",\n",
      "  \"speed\": null,\n",
      "  \"seeders\": null\n",
      "}\n",
      "{\n",
      "  \"id\": \"MIE4XVDG7Q46O\",\n",
      "  \"filename\": \"Harry.Potter.and.the.Chamber.of.Secrets.2002.Extended.Cut.BDRip.1080p-SOFCJ.mkv\",\n",
      "  \"hash\": \"a6ec79dda559046a690bc47f77940ef2cf62ab06\",\n",
      "  \"bytes\": 22709815377,\n",
      "  \"host\": \"real-debrid.com\",\n",
      "  \"split\": 2000,\n",
      "  \"progress\": 100,\n",
      "  \"status\": \"downloaded\",\n",
      "  \"added\": \"2024-12-25T16:10:27.000Z\",\n",
      "  \"links\": [\n",
      "    \"https://real-debrid.com/d/WILSCUE27TGL2C0D\"\n",
      "  ],\n",
      "  \"ended\": \"2024-01-08T20:42:24.000Z\",\n",
      "  \"speed\": null,\n",
      "  \"seeders\": null\n",
      "}\n",
      "{\n",
      "  \"id\": \"NO4KLRFK6G5Q4\",\n",
      "  \"filename\": \"Harry.Potter.and.the.Sorcerer's.Stone.2001.Open.Matte.1080p.WEB-DL.11xRus.Eng.mkv\",\n",
      "  \"hash\": \"5b23305d8755da4fdae37547e876c097096aa90f\",\n",
      "  \"bytes\": 24456938735,\n",
      "  \"host\": \"real-debrid.com\",\n",
      "  \"split\": 2000,\n",
      "  \"progress\": 100,\n",
      "  \"status\": \"downloaded\",\n",
      "  \"added\": \"2024-12-22T18:02:49.000Z\",\n",
      "  \"links\": [\n",
      "    \"https://real-debrid.com/d/QFZHWDDXNFSZW23B\"\n",
      "  ],\n",
      "  \"ended\": \"2024-02-01T11:38:24.000Z\",\n",
      "  \"speed\": null,\n",
      "  \"seeders\": null\n",
      "}\n",
      "{\n",
      "  \"id\": \"OSOGJLNL564KU\",\n",
      "  \"filename\": \"Chelovek.s.zemli.2007.x264.BDRip.1080p.mkv\",\n",
      "  \"hash\": \"6d95cbb71d932dbbc7a439ccc23445237a478d08\",\n",
      "  \"bytes\": 8675023304,\n",
      "  \"host\": \"real-debrid.com\",\n",
      "  \"split\": 2000,\n",
      "  \"progress\": 100,\n",
      "  \"status\": \"downloaded\",\n",
      "  \"added\": \"2024-11-01T06:58:03.000Z\",\n",
      "  \"links\": [\n",
      "    \"https://real-debrid.com/d/IXSRWHYBCGOJQD1E\"\n",
      "  ],\n",
      "  \"ended\": \"2024-11-01T07:15:34.000Z\",\n",
      "  \"speed\": null,\n",
      "  \"seeders\": null\n",
      "}\n",
      "{\n",
      "  \"id\": \"ITWDQNF6DDMEE\",\n",
      "  \"filename\": \"The.Man.from.Earth.Holocene.2017.REMUX.mkv\",\n",
      "  \"hash\": \"8335b66fe9a9fdd417f6739449ebb31aaca077f6\",\n",
      "  \"bytes\": 21301706223,\n",
      "  \"host\": \"real-debrid.com\",\n",
      "  \"split\": 2000,\n",
      "  \"progress\": 100,\n",
      "  \"status\": \"downloaded\",\n",
      "  \"added\": \"2024-11-01T06:57:55.000Z\",\n",
      "  \"links\": [\n",
      "    \"https://real-debrid.com/d/BQQIIPZH573PM606\"\n",
      "  ],\n",
      "  \"ended\": \"2024-01-05T00:10:30.000Z\",\n",
      "  \"speed\": null,\n",
      "  \"seeders\": null\n",
      "}\n",
      "{\n",
      "  \"id\": \"5YO4HNVKZSJMI\",\n",
      "  \"filename\": \"The.Matrix.Resurrections.2021.WEB-DLRip.1080p.seleZen.mkv\",\n",
      "  \"hash\": \"037e86c7816c5d943d42b71068f29c328093f70a\",\n",
      "  \"bytes\": 8412442409,\n",
      "  \"host\": \"real-debrid.com\",\n",
      "  \"split\": 2000,\n",
      "  \"progress\": 100,\n",
      "  \"status\": \"downloaded\",\n",
      "  \"added\": \"2024-10-06T20:01:22.000Z\",\n",
      "  \"links\": [\n",
      "    \"https://real-debrid.com/d/WT6CJEE6IAEIO480\"\n",
      "  ],\n",
      "  \"ended\": \"2023-11-21T02:47:34.000Z\",\n",
      "  \"speed\": null,\n",
      "  \"seeders\": null\n",
      "}\n"
     ]
    }
   ],
   "source": [
    "import json\n",
    "for torrent in torrent_list:\n",
    "    print(torrent.model_dump_json(indent=2))"
   ]
  },
  {
   "cell_type": "code",
   "execution_count": null,
   "id": "ffd6cba7",
   "metadata": {},
   "outputs": [
    {
     "name": "stderr",
     "output_type": "stream",
     "text": [
      "DEBUG:httpcore.connection:close.started\n",
      "DEBUG:httpcore.connection:close.complete\n",
      "DEBUG:httpcore.connection:connect_tcp.started host='api.real-debrid.com' port=443 local_address=None timeout=10 socket_options=None\n",
      "DEBUG:httpcore.connection:connect_tcp.complete return_value=<httpcore._backends.sync.SyncStream object at 0x00000184DD885310>\n",
      "DEBUG:httpcore.connection:start_tls.started ssl_context=<ssl.SSLContext object at 0x00000184DD308A70> server_hostname='api.real-debrid.com' timeout=10\n",
      "DEBUG:httpcore.connection:start_tls.complete return_value=<httpcore._backends.sync.SyncStream object at 0x00000184DD1AF5C0>\n",
      "DEBUG:httpcore.http11:send_request_headers.started request=<Request [b'POST']>\n",
      "DEBUG:httpcore.http11:send_request_headers.complete\n",
      "DEBUG:httpcore.http11:send_request_body.started request=<Request [b'POST']>\n",
      "DEBUG:httpcore.http11:send_request_body.complete\n",
      "DEBUG:httpcore.http11:receive_response_headers.started request=<Request [b'POST']>\n"
     ]
    },
    {
     "name": "stdout",
     "output_type": "stream",
     "text": [
      "Authenticating...\n"
     ]
    },
    {
     "name": "stderr",
     "output_type": "stream",
     "text": [
      "DEBUG:httpcore.http11:receive_response_headers.complete return_value=(b'HTTP/1.1', 201, b'Created', [(b'Date', b'Sat, 05 Apr 2025 19:15:57 GMT'), (b'Content-Type', b'application/json'), (b'Transfer-Encoding', b'chunked'), (b'Connection', b'keep-alive'), (b'Keep-Alive', b'timeout=8'), (b'X-Served-By', b'B4')])\n",
      "INFO:httpx:HTTP Request: POST https://api.real-debrid.com/rest/1.0/torrents/addMagnet \"HTTP/1.1 201 Created\"\n",
      "DEBUG:httpcore.http11:receive_response_body.started request=<Request [b'POST']>\n",
      "DEBUG:httpcore.http11:receive_response_body.complete\n",
      "DEBUG:httpcore.http11:response_closed.started\n",
      "DEBUG:httpcore.http11:response_closed.complete\n"
     ]
    },
    {
     "name": "stdout",
     "output_type": "stream",
     "text": [
      "<Response [201 Created]>\n"
     ]
    },
    {
     "data": {
      "text/plain": [
       "RDAddMagnet(id='5AURDUHP5YSSO', uri='https://api.real-debrid.com/rest/1.0/torrents/info/5AURDUHP5YSSO')"
      ]
     },
     "execution_count": 11,
     "metadata": {},
     "output_type": "execute_result"
    }
   ],
   "source": [
    "#rd.add_magnet(\n",
    "#    magnet_url=\"magnet:?xt=urn:btih:EDC2CC69C4C4E05F6DA9E2E2971D13776019672E&tr=http%3A%2F%2Fbt3.t-ru.org%2Fann%3Fmagnet&dn=%D0%9B%D1%83%D1%87%D1%88%D0%B5%20%D0%B7%D0%B2%D0%BE%D0%BD%D0%B8%D1%82%D0%B5%20%D0%A1%D0%BE%D0%BB%D1%83%20%2F%20Better%20Call%20Saul%20%2F%20%D0%A1%D0%B5%D0%B7%D0%BE%D0%BD%3A%202%20%2F%20%D0%A1%D0%B5%D1%80%D0%B8%D0%B8%3A%201-10%20%D0%B8%D0%B7%2010%20(%D0%9A%D0%BE%D0%BB%D0%B8%D0%BD%20%D0%91%D0%B0%D0%BA%D1%81%D0%B8%2C%20%D0%90%D0%B4%D0%B0%D0%BC%20%D0%91%D0%B5%D1%80%D0%BD%D1%88%D1%82%D0%B5%D0%B9%D0%BD%2C%20%D0%92%D0%B8%D0%BD%D1%81%20%D0%93%D0%B8%D0%BB%D0%BB%D0%B8%D0%B3%D0%B0%D0%BD)%20%5B2016%2C%20%D0%A1%D0%A8%D0%90%2C%20%D0%B4%D1%80%D0%B0%D0%BC%D0%B0%2C%20%D0%BA%D0%BE%D0%BC%D0%B5%D0%B4%D0%B8%D1%8F%2C%20%D0%BA%D1%80%D0%B8%D0%BC%D0%B8%D0%BD%D0%B0%D0%BB\"\n",
    "#)"
   ]
  },
  {
   "cell_type": "code",
   "execution_count": 15,
   "id": "64e30ad0",
   "metadata": {},
   "outputs": [
    {
     "name": "stderr",
     "output_type": "stream",
     "text": [
      "DEBUG:httpcore.connection:close.started\n",
      "DEBUG:httpcore.connection:close.complete\n",
      "DEBUG:httpcore.connection:connect_tcp.started host='api.real-debrid.com' port=443 local_address=None timeout=10 socket_options=None\n",
      "DEBUG:httpcore.connection:connect_tcp.complete return_value=<httpcore._backends.sync.SyncStream object at 0x00000184DD88D040>\n",
      "DEBUG:httpcore.connection:start_tls.started ssl_context=<ssl.SSLContext object at 0x00000184DD308A70> server_hostname='api.real-debrid.com' timeout=10\n",
      "DEBUG:httpcore.connection:start_tls.complete return_value=<httpcore._backends.sync.SyncStream object at 0x00000184DD88D220>\n",
      "DEBUG:httpcore.http11:send_request_headers.started request=<Request [b'GET']>\n",
      "DEBUG:httpcore.http11:send_request_headers.complete\n",
      "DEBUG:httpcore.http11:send_request_body.started request=<Request [b'GET']>\n",
      "DEBUG:httpcore.http11:send_request_body.complete\n",
      "DEBUG:httpcore.http11:receive_response_headers.started request=<Request [b'GET']>\n"
     ]
    },
    {
     "name": "stdout",
     "output_type": "stream",
     "text": [
      "Authenticating...\n"
     ]
    },
    {
     "name": "stderr",
     "output_type": "stream",
     "text": [
      "DEBUG:httpcore.http11:receive_response_headers.complete return_value=(b'HTTP/1.1', 200, b'OK', [(b'Date', b'Sat, 05 Apr 2025 19:26:49 GMT'), (b'Content-Type', b'application/json'), (b'Transfer-Encoding', b'chunked'), (b'Connection', b'keep-alive'), (b'Keep-Alive', b'timeout=8'), (b'Vary', b'Accept-Encoding'), (b'Vary', b'Accept-Encoding'), (b'X-Served-By', b'B4'), (b'X-Cached', b'MISS'), (b'Content-Encoding', b'gzip')])\n",
      "INFO:httpx:HTTP Request: GET https://api.real-debrid.com/rest/1.0/torrents/info/5AURDUHP5YSSO \"HTTP/1.1 200 OK\"\n",
      "DEBUG:httpcore.http11:receive_response_body.started request=<Request [b'GET']>\n",
      "DEBUG:httpcore.http11:receive_response_body.complete\n",
      "DEBUG:httpcore.http11:response_closed.started\n",
      "DEBUG:httpcore.http11:response_closed.complete\n"
     ]
    },
    {
     "ename": "NameError",
     "evalue": "name 'RDTorrentInfo' is not defined",
     "output_type": "error",
     "traceback": [
      "\u001b[31m---------------------------------------------------------------------------\u001b[39m",
      "\u001b[31mNameError\u001b[39m                                 Traceback (most recent call last)",
      "\u001b[36mCell\u001b[39m\u001b[36m \u001b[39m\u001b[32mIn[15]\u001b[39m\u001b[32m, line 1\u001b[39m\n\u001b[32m----> \u001b[39m\u001b[32m1\u001b[39m \u001b[43mrd\u001b[49m\u001b[43m.\u001b[49m\u001b[43mget_torrent_info\u001b[49m\u001b[43m(\u001b[49m\u001b[33;43m\"\u001b[39;49m\u001b[33;43m5AURDUHP5YSSO\u001b[39;49m\u001b[33;43m\"\u001b[39;49m\u001b[43m)\u001b[49m\n",
      "\u001b[36mFile \u001b[39m\u001b[32m<string>:14\u001b[39m, in \u001b[36mget_torrent_info\u001b[39m\u001b[34m(self, torrent_id)\u001b[39m\n",
      "\u001b[31mNameError\u001b[39m: name 'RDTorrentInfo' is not defined"
     ]
    }
   ],
   "source": [
    "rd.get_torrent_info(\"5AURDUHP5YSSO\")"
   ]
  }
 ],
 "metadata": {
  "kernelspec": {
   "display_name": "Python 3",
   "language": "python",
   "name": "python3"
  },
  "language_info": {
   "codemirror_mode": {
    "name": "ipython",
    "version": 3
   },
   "file_extension": ".py",
   "mimetype": "text/x-python",
   "name": "python",
   "nbconvert_exporter": "python",
   "pygments_lexer": "ipython3",
   "version": "3.13.2"
  }
 },
 "nbformat": 4,
 "nbformat_minor": 5
}
